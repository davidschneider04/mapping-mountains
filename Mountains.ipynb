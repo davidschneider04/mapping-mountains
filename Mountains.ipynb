{
 "cells": [
  {
   "cell_type": "markdown",
   "metadata": {},
   "source": [
    "# Get Data"
   ]
  },
  {
   "cell_type": "code",
   "execution_count": 1,
   "metadata": {},
   "outputs": [],
   "source": [
    "import folium\n",
    "import pandas as pd, numpy as np\n",
    "import re, decimal, boto3, os\n",
    "from folium import plugins"
   ]
  },
  {
   "cell_type": "markdown",
   "metadata": {},
   "source": [
    "#### Get the data from Wikipedia"
   ]
  },
  {
   "cell_type": "code",
   "execution_count": 2,
   "metadata": {},
   "outputs": [
    {
     "data": {
      "text/html": [
       "<div>\n",
       "<style scoped>\n",
       "    .dataframe tbody tr th:only-of-type {\n",
       "        vertical-align: middle;\n",
       "    }\n",
       "\n",
       "    .dataframe tbody tr th {\n",
       "        vertical-align: top;\n",
       "    }\n",
       "\n",
       "    .dataframe thead th {\n",
       "        text-align: right;\n",
       "    }\n",
       "</style>\n",
       "<table border=\"1\" class=\"dataframe\">\n",
       "  <thead>\n",
       "    <tr style=\"text-align: right;\">\n",
       "      <th></th>\n",
       "      <th>Mountain Peak</th>\n",
       "      <th>Mountain Range</th>\n",
       "      <th>Elevation</th>\n",
       "      <th>Prominence</th>\n",
       "      <th>Isolation</th>\n",
       "      <th>Location</th>\n",
       "    </tr>\n",
       "  </thead>\n",
       "  <tbody>\n",
       "    <tr>\n",
       "      <th>0</th>\n",
       "      <td>Mount Elbert[1][2][3][4][5]</td>\n",
       "      <td>Sawatch Range</td>\n",
       "      <td>4401.2 m</td>\n",
       "      <td>2772 m</td>\n",
       "      <td>nan</td>\n",
       "      <td>39°07′04″N 106°26′43″W﻿ / ﻿39.1178°N 106.4454°W</td>\n",
       "    </tr>\n",
       "    <tr>\n",
       "      <th>1</th>\n",
       "      <td>Mount Massive[6][7][8][9][10][11]</td>\n",
       "      <td>Sawatch Range</td>\n",
       "      <td>4398 m</td>\n",
       "      <td>598 m</td>\n",
       "      <td>8.14 km</td>\n",
       "      <td>39°11′15″N 106°28′33″W﻿ / ﻿39.1875°N 106.4757°W</td>\n",
       "    </tr>\n",
       "    <tr>\n",
       "      <th>2</th>\n",
       "      <td>Mount Harvard[12][13][14][15][16][17]</td>\n",
       "      <td>Sawatch Range</td>\n",
       "      <td>4395.6 m</td>\n",
       "      <td>719 m</td>\n",
       "      <td>24 km</td>\n",
       "      <td>38°55′28″N 106°19′15″W﻿ / ﻿38.9244°N 106.3207°W</td>\n",
       "    </tr>\n",
       "    <tr>\n",
       "      <th>3</th>\n",
       "      <td>Blanca Peak[18][19][20][21][22][23]</td>\n",
       "      <td>Sangre de Cristo Mountains</td>\n",
       "      <td>4374 m</td>\n",
       "      <td>1623 m</td>\n",
       "      <td>166.4 km</td>\n",
       "      <td>37°34′39″N 105°29′08″W﻿ / ﻿37.5775°N 105.4856°W</td>\n",
       "    </tr>\n",
       "    <tr>\n",
       "      <th>4</th>\n",
       "      <td>La Plata Peak[24][25][26][27]</td>\n",
       "      <td>Sawatch Range</td>\n",
       "      <td>4372 m</td>\n",
       "      <td>560 m</td>\n",
       "      <td>10.11 km</td>\n",
       "      <td>39°01′46″N 106°28′22″W﻿ / ﻿39.0294°N 106.4729°W</td>\n",
       "    </tr>\n",
       "  </tbody>\n",
       "</table>\n",
       "</div>"
      ],
      "text/plain": [
       "                           Mountain Peak              Mountain Range  \\\n",
       "0            Mount Elbert[1][2][3][4][5]               Sawatch Range   \n",
       "1      Mount Massive[6][7][8][9][10][11]               Sawatch Range   \n",
       "2  Mount Harvard[12][13][14][15][16][17]               Sawatch Range   \n",
       "3    Blanca Peak[18][19][20][21][22][23]  Sangre de Cristo Mountains   \n",
       "4          La Plata Peak[24][25][26][27]               Sawatch Range   \n",
       "\n",
       "  Elevation Prominence Isolation  \\\n",
       "0  4401.2 m     2772 m       nan   \n",
       "1    4398 m      598 m   8.14 km   \n",
       "2  4395.6 m      719 m     24 km   \n",
       "3    4374 m     1623 m  166.4 km   \n",
       "4    4372 m      560 m  10.11 km   \n",
       "\n",
       "                                          Location  \n",
       "0  39°07′04″N 106°26′43″W﻿ / ﻿39.1178°N 106.4454°W  \n",
       "1  39°11′15″N 106°28′33″W﻿ / ﻿39.1875°N 106.4757°W  \n",
       "2  38°55′28″N 106°19′15″W﻿ / ﻿38.9244°N 106.3207°W  \n",
       "3  37°34′39″N 105°29′08″W﻿ / ﻿37.5775°N 105.4856°W  \n",
       "4  39°01′46″N 106°28′22″W﻿ / ﻿39.0294°N 106.4729°W  "
      ]
     },
     "execution_count": 2,
     "metadata": {},
     "output_type": "execute_result"
    }
   ],
   "source": [
    "rawdata = pd.read_html(\"https://en.wikipedia.org/wiki/List_of_the_highest_major_summits_of_Colorado\"\n",
    "                       , match='highest summits', header=0)[0]\n",
    "df = rawdata.drop(['Rank'], axis=1)\n",
    "df = df.astype(str)\n",
    "df.head()"
   ]
  },
  {
   "cell_type": "markdown",
   "metadata": {},
   "source": [
    "### Format the data"
   ]
  },
  {
   "cell_type": "markdown",
   "metadata": {},
   "source": [
    "#### reformat column names"
   ]
  },
  {
   "cell_type": "code",
   "execution_count": 3,
   "metadata": {},
   "outputs": [],
   "source": [
    "df.columns = [re.sub('\\ ', '_', col) for col in df.columns]"
   ]
  },
  {
   "cell_type": "markdown",
   "metadata": {},
   "source": [
    "#### remove citations"
   ]
  },
  {
   "cell_type": "code",
   "execution_count": 4,
   "metadata": {},
   "outputs": [],
   "source": [
    "rexp = re.compile('\\[\\d+\\]')\n",
    "df['Mountain_Peak'] = df['Mountain_Peak'].replace(rexp, '')"
   ]
  },
  {
   "cell_type": "markdown",
   "metadata": {},
   "source": [
    "#### only want float format"
   ]
  },
  {
   "cell_type": "code",
   "execution_count": 5,
   "metadata": {},
   "outputs": [],
   "source": [
    "rexp = re.compile('([\\d]+\\.[\\d]+)')\n",
    "df['Latitude'] = df['Location'].apply(lambda x: re.findall(rexp, x)[0])\n",
    "df['Longitude'] = df['Location'].apply(lambda x: re.findall(rexp, x)[1])\n",
    "df = df.drop(['Location'], axis=1)"
   ]
  },
  {
   "cell_type": "markdown",
   "metadata": {},
   "source": [
    "#### represent units in column name"
   ]
  },
  {
   "cell_type": "code",
   "execution_count": 6,
   "metadata": {},
   "outputs": [],
   "source": [
    "#record before stripping\n",
    "unitmapper = {'Elevation': 'm', 'Prominence': 'm', 'Isolation': 'km'}\n",
    "#strip out from values\n",
    "for col in unitmapper.keys():\n",
    "    df[col] = df[col].apply(lambda s: re.sub('\\sk?m', '', s))\n",
    "df.rename({key: key+'_'+val for (key, val) in unitmapper.items()}, axis=1, inplace=True)\n",
    "unit_cols = [key+'_'+val for (key, val) in unitmapper.items()]"
   ]
  },
  {
   "cell_type": "markdown",
   "metadata": {},
   "source": [
    "#### index"
   ]
  },
  {
   "cell_type": "code",
   "execution_count": 7,
   "metadata": {},
   "outputs": [],
   "source": [
    "df = df.set_index(['Mountain_Peak'])"
   ]
  },
  {
   "cell_type": "markdown",
   "metadata": {},
   "source": [
    "#### fill missing values"
   ]
  },
  {
   "cell_type": "code",
   "execution_count": 8,
   "metadata": {},
   "outputs": [],
   "source": [
    "#source: https://www.peakbagger.com/Isolate.aspx?pid=5736\n",
    "##seems way high but who am i to say\n",
    "df.loc['Mount Elbert']['Isolation_km'] = '1079.15'"
   ]
  },
  {
   "cell_type": "markdown",
   "metadata": {},
   "source": [
    "#### reformat column datatypes"
   ]
  },
  {
   "cell_type": "code",
   "execution_count": 9,
   "metadata": {},
   "outputs": [],
   "source": [
    "#units\n",
    "decimal.getcontext().prec = 2\n",
    "for col in unit_cols:\n",
    "    df[col] = df[col].astype('float').apply(lambda x: round(x, 2))\n",
    "#coordinates\n",
    "df['Latitude'] = df['Latitude'].astype('float')\n",
    "df['Longitude'] = df['Longitude'].astype('float')\n",
    "##these are backwards\n",
    "df['Longitude'] = df['Longitude']*-1"
   ]
  },
  {
   "cell_type": "markdown",
   "metadata": {},
   "source": [
    "# Map Data"
   ]
  },
  {
   "cell_type": "code",
   "execution_count": 10,
   "metadata": {},
   "outputs": [],
   "source": [
    "def create_map():\n",
    "    #geographical center of state\n",
    "    latitude, longitude = 39.000000, -105.547222\n",
    "    mapobj = folium.Map(location=[latitude, longitude], tiles='Stamen Terrain', zoom_start=7)\n",
    "    return mapobj\n",
    "map_co = create_map()"
   ]
  },
  {
   "cell_type": "code",
   "execution_count": 11,
   "metadata": {},
   "outputs": [],
   "source": [
    "df = pd.read_csv(\"https://davidschneiderprojects.s3.amazonaws.com/MountainMapping/data.csv\")\n",
    "df = df.set_index('Mountain_Peak')"
   ]
  },
  {
   "cell_type": "markdown",
   "metadata": {},
   "source": [
    "#### Add markers to map"
   ]
  },
  {
   "cell_type": "code",
   "execution_count": 12,
   "metadata": {},
   "outputs": [
    {
     "name": "stdout",
     "output_type": "stream",
     "text": [
      "Mount+Elbert\n",
      "Mount+Massive\n",
      "Mount+Harvard\n",
      "Blanca+Peak\n",
      "La+Plata+Peak\n",
      "Uncompahgre+Peak\n",
      "Crestone+Peak\n",
      "Mount+Lincoln\n",
      "Castle+Peak\n",
      "Grays+Peak\n",
      "Mount+Antero\n",
      "Mount+Evans\n",
      "Longs+Peak\n",
      "Mount+Wilson\n",
      "Mount+Princeton\n",
      "Mount+Yale\n",
      "Maroon+Peak\n",
      "Mount+Sneffels\n",
      "Capitol+Peak\n",
      "Pikes+Peak\n",
      "Windom+Peak\n",
      "Handies+Peak\n",
      "Culebra+Peak\n",
      "San+Luis+Peak\n",
      "Mount+of+the+Holy+Cross\n",
      "Grizzly+Peak\n",
      "Mount+Ouray\n",
      "Vermilion+Peak\n",
      "Mount+Silverheels\n",
      "Rio+Grande+Pyramid\n",
      "Bald+Mountain\n",
      "Mount+Oso\n",
      "Mount+Jackson\n",
      "Bard+Peak\n",
      "West+Spanish+Peak\n",
      "Mount+Powell\n",
      "Hagues+Peak\n",
      "Tower+Mountain\n",
      "Treasure+Mountain\n",
      "North+Arapaho+Peak\n",
      "Parry+Peak\n",
      "Bill+Williams+Peak\n",
      "Sultan+Mountain\n",
      "Mount+Herard\n",
      "West+Buffalo+Peak\n",
      "Summit+Peak\n",
      "Middle+Peak\n",
      "Antora+Peak\n",
      "Henry+Mountain\n",
      "Hesperus+Mountain\n",
      "Jacque+Peak\n",
      "Bennett+Peak\n",
      "Conejos+Peak\n",
      "Twilight+Peak\n",
      "South+River+Peak\n",
      "Bushnell+Peak\n",
      "West+Elk+Peak\n",
      "Mount+Centennial\n",
      "Clark+Peak\n",
      "Mount+Richthofen\n",
      "Chair+Mountain\n",
      "Mount+Gunnison\n",
      "East+Spanish+Peak\n",
      "Gothic+Mountain\n",
      "Lone+Cone\n",
      "Graham+Peak\n",
      "Whetstone+Mountain\n",
      "Specimen+Mountain\n",
      "East+Beckwith+Mountain\n",
      "Knobby+Crest\n",
      "Bison+Mountain\n",
      "Anthracite+Peak\n",
      "Matchless+Mountain\n",
      "Flat+Top+Mountain\n",
      "Greenhorn+Mountain\n",
      "Elliott+Mountain\n",
      "Parkview+Mountain\n",
      "Cornwall+Mountain\n",
      "Mount+Zirkel\n",
      "Crested+Butte\n",
      "Sawtooth+Mountain\n",
      "Park+Cone\n",
      "Carbon+Peak\n",
      "Mount+Guero\n",
      "Red+Table+Mountain\n",
      "Chalk+Benchmark\n",
      "Mount+Zwischen\n",
      "Little+Cone\n",
      "Huntsman+Ridge+Peak\n",
      "Sheep+Mountain\n",
      "Waugh+Mountain\n",
      "Coal+Mountain\n",
      "Black+Mountain\n",
      "Williams+Peak\n",
      "Puma+Peak\n",
      "Mount+Mestas\n",
      "Thirtynine+Mile+Mountain\n",
      "Tomichi+Dome\n",
      "Blair+Mountain\n",
      "Twin+Sisters+Peaks\n",
      "Elk+Mountain\n",
      "Iron+Mountain\n",
      "Marcellina+Mountain\n",
      "Crater+Peak\n",
      "Castle+Peak\n",
      "Hardscrabble+Mountain\n",
      "Cochetopa+Dome\n",
      "North+Mamm+Peak\n",
      "Laramie+Mountains+HP\n",
      "Sand+Mountain+North\n",
      "Black+Mountain\n",
      "Sleepy+Cat+Peak\n",
      "Spruce+Mountain\n",
      "Green+Mountain\n",
      "Columbus+Mountain\n",
      "Ute+Peak\n",
      "Horse+Mountain\n"
     ]
    }
   ],
   "source": [
    "for mountain, data in df.iterrows():\n",
    "    mtn = re.sub('\\s','+',re.search('[^(]+', mountain)[0])\n",
    "    print(mtn)"
   ]
  },
  {
   "cell_type": "code",
   "execution_count": 13,
   "metadata": {},
   "outputs": [
    {
     "ename": "NameError",
     "evalue": "name 'marker' is not defined",
     "output_type": "error",
     "traceback": [
      "\u001b[0;31m---------------------------------------------------------------------------\u001b[0m",
      "\u001b[0;31mNameError\u001b[0m                                 Traceback (most recent call last)",
      "\u001b[0;32m<ipython-input-13-f554f11fd2b0>\u001b[0m in \u001b[0;36m<module>\u001b[0;34m\u001b[0m\n\u001b[1;32m     50\u001b[0m         \u001b[0mfill_opacity\u001b[0m\u001b[0;34m=\u001b[0m\u001b[0;36m1\u001b[0m\u001b[0;34m,\u001b[0m\u001b[0;34m\u001b[0m\u001b[0;34m\u001b[0m\u001b[0m\n\u001b[1;32m     51\u001b[0m         parse_html=False)\n\u001b[0;32m---> 52\u001b[0;31m     \u001b[0mmarker\u001b[0m\u001b[0;34m.\u001b[0m\u001b[0madd_to\u001b[0m\u001b[0;34m(\u001b[0m\u001b[0mmap_co\u001b[0m\u001b[0;34m)\u001b[0m\u001b[0;34m\u001b[0m\u001b[0;34m\u001b[0m\u001b[0m\n\u001b[0m",
      "\u001b[0;31mNameError\u001b[0m: name 'marker' is not defined"
     ]
    }
   ],
   "source": [
    "for mountain, data in df.iterrows():\n",
    "    height = data['Elevation_m']\n",
    "    mtnrange = data['Mountain_Range']\n",
    "    prominence = data['Prominence_m']\n",
    "    isolation = data['Isolation_km']\n",
    "    location = str(round(data['Latitude'], 4)) + ', ' + str(round(data['Longitude'],4))\n",
    "    mapsurl = \"https://www.google.com/maps/dir//\" + re.sub('\\s','+',re.search('[^(]+', mountain)[0])\n",
    "    lbltxt=f\"\"\"\n",
    "    <h2>{mountain}</h2>\n",
    "    <table>\n",
    "        <tr>\n",
    "            <td>Height:</td> \n",
    "            <td>&nbsp;&nbsp;&nbsp;{height}m</td>\n",
    "        </tr>\n",
    "        <tr>\n",
    "            <td>Part of:</td>\n",
    "            <td>&nbsp;&nbsp;&nbsp;{mtnrange}</td>\n",
    "        </tr>\n",
    "        <tr>\n",
    "            <td>Prominence:</td>\n",
    "            <td>&nbsp;&nbsp;&nbsp;{prominence}m</td>\n",
    "        </tr>\n",
    "        <tr>\n",
    "            <td>Isolation:</td>\n",
    "            <td>&nbsp;&nbsp;&nbsp;{isolation}km</td>\n",
    "        </tr>\n",
    "        <tr>\n",
    "            <td>Location:</td>\n",
    "            <td>&nbsp;&nbsp;&nbsp;{location}\n",
    "                <button type=\"button\">\n",
    "                    <a href={mapsurl} target=\"_blank\">\n",
    "                        Directions\n",
    "                    </a>\n",
    "                </button>\n",
    "            </td>\n",
    "        </tr>\n",
    "    </table>\n",
    "    \"\"\"\n",
    "    iframe = folium.IFrame(html=lbltxt, width=350, height=200)\n",
    "    label = folium.Popup(iframe)\n",
    "    folium.RegularPolygonMarker(\n",
    "        [data['Latitude'], data['Longitude']],\n",
    "        radius=3,\n",
    "        number_of_sides=3,\n",
    "        popup=label,\n",
    "        tooltip=mountain,\n",
    "        color='red',\n",
    "        fill=True,\n",
    "        fill_color='red',\n",
    "        fill_opacity=1,\n",
    "        parse_html=False)\n",
    "    marker.add_to(map_co)"
   ]
  },
  {
   "cell_type": "code",
   "execution_count": null,
   "metadata": {},
   "outputs": [],
   "source": [
    "#marker = folium.CircleMarker(\n",
    "#        [data['Latitude'], data['Longitude']],\n",
    "#        radius=3,\n",
    "#        popup=label,\n",
    "#        tooltip=mountain,\n",
    "#        color='red',\n",
    "#        fill=True,\n",
    "#        fill_color='red',\n",
    "#        fill_opacity=1,\n",
    "#        parse_html=False)"
   ]
  },
  {
   "cell_type": "markdown",
   "metadata": {},
   "source": [
    "#### Add a Title"
   ]
  },
  {
   "cell_type": "code",
   "execution_count": null,
   "metadata": {},
   "outputs": [],
   "source": [
    "url = 'https://github.com/davidschneider04/mapping-mountains/raw/master/title.png'\n",
    "plugins.FloatImage(url, bottom=2, left=5).add_to(map_co)"
   ]
  },
  {
   "cell_type": "markdown",
   "metadata": {},
   "source": [
    "#### Add an option to view fullscreen"
   ]
  },
  {
   "cell_type": "code",
   "execution_count": null,
   "metadata": {},
   "outputs": [],
   "source": [
    "plugins.Fullscreen(position='topright', \n",
    "                   title='Full Screen', \n",
    "                   title_cancel='Exit Full Screen', \n",
    "                   force_separate_button=True).add_to(map_co)"
   ]
  },
  {
   "cell_type": "markdown",
   "metadata": {},
   "source": [
    "#### Render the map"
   ]
  },
  {
   "cell_type": "code",
   "execution_count": null,
   "metadata": {},
   "outputs": [],
   "source": [
    "map_co"
   ]
  },
  {
   "cell_type": "code",
   "execution_count": null,
   "metadata": {},
   "outputs": [],
   "source": [
    "map_co.save('demo_map.html')"
   ]
  }
 ],
 "metadata": {
  "kernelspec": {
   "display_name": "Python 3",
   "language": "python",
   "name": "python3"
  },
  "language_info": {
   "codemirror_mode": {
    "name": "ipython",
    "version": 3
   },
   "file_extension": ".py",
   "mimetype": "text/x-python",
   "name": "python",
   "nbconvert_exporter": "python",
   "pygments_lexer": "ipython3",
   "version": "3.7.1"
  }
 },
 "nbformat": 4,
 "nbformat_minor": 2
}
