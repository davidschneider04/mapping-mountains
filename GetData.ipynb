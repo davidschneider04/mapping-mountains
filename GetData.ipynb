{
 "cells": [
  {
   "cell_type": "code",
   "execution_count": 1,
   "metadata": {},
   "outputs": [],
   "source": [
    "import pandas as pd, numpy as np\n",
    "import re, decimal, boto3, os"
   ]
  },
  {
   "cell_type": "markdown",
   "metadata": {},
   "source": [
    "#### Get the data from Wikipedia"
   ]
  },
  {
   "cell_type": "code",
   "execution_count": 2,
   "metadata": {},
   "outputs": [
    {
     "data": {
      "text/html": [
       "<div>\n",
       "<style scoped>\n",
       "    .dataframe tbody tr th:only-of-type {\n",
       "        vertical-align: middle;\n",
       "    }\n",
       "\n",
       "    .dataframe tbody tr th {\n",
       "        vertical-align: top;\n",
       "    }\n",
       "\n",
       "    .dataframe thead th {\n",
       "        text-align: right;\n",
       "    }\n",
       "</style>\n",
       "<table border=\"1\" class=\"dataframe\">\n",
       "  <thead>\n",
       "    <tr style=\"text-align: right;\">\n",
       "      <th></th>\n",
       "      <th>Mountain Peak</th>\n",
       "      <th>Mountain Range</th>\n",
       "      <th>Elevation</th>\n",
       "      <th>Prominence</th>\n",
       "      <th>Isolation</th>\n",
       "      <th>Location</th>\n",
       "    </tr>\n",
       "  </thead>\n",
       "  <tbody>\n",
       "    <tr>\n",
       "      <th>0</th>\n",
       "      <td>Mount Elbert[1][2][3][4][5]</td>\n",
       "      <td>Sawatch Range</td>\n",
       "      <td>4401.2 m</td>\n",
       "      <td>2772 m</td>\n",
       "      <td>nan</td>\n",
       "      <td>39°07′04″N 106°26′43″W﻿ / ﻿39.1178°N 106.4454°W</td>\n",
       "    </tr>\n",
       "    <tr>\n",
       "      <th>1</th>\n",
       "      <td>Mount Massive[6][7][8][9][10][11]</td>\n",
       "      <td>Sawatch Range</td>\n",
       "      <td>4398 m</td>\n",
       "      <td>598 m</td>\n",
       "      <td>8.14 km</td>\n",
       "      <td>39°11′15″N 106°28′33″W﻿ / ﻿39.1875°N 106.4757°W</td>\n",
       "    </tr>\n",
       "    <tr>\n",
       "      <th>2</th>\n",
       "      <td>Mount Harvard[12][13][14][15][16][17]</td>\n",
       "      <td>Sawatch Range</td>\n",
       "      <td>4395.6 m</td>\n",
       "      <td>719 m</td>\n",
       "      <td>24 km</td>\n",
       "      <td>38°55′28″N 106°19′15″W﻿ / ﻿38.9244°N 106.3207°W</td>\n",
       "    </tr>\n",
       "    <tr>\n",
       "      <th>3</th>\n",
       "      <td>Blanca Peak[18][19][20][21][22][23]</td>\n",
       "      <td>Sangre de Cristo Mountains</td>\n",
       "      <td>4374 m</td>\n",
       "      <td>1623 m</td>\n",
       "      <td>166.4 km</td>\n",
       "      <td>37°34′39″N 105°29′08″W﻿ / ﻿37.5775°N 105.4856°W</td>\n",
       "    </tr>\n",
       "    <tr>\n",
       "      <th>4</th>\n",
       "      <td>La Plata Peak[24][25][26][27]</td>\n",
       "      <td>Sawatch Range</td>\n",
       "      <td>4372 m</td>\n",
       "      <td>560 m</td>\n",
       "      <td>10.11 km</td>\n",
       "      <td>39°01′46″N 106°28′22″W﻿ / ﻿39.0294°N 106.4729°W</td>\n",
       "    </tr>\n",
       "  </tbody>\n",
       "</table>\n",
       "</div>"
      ],
      "text/plain": [
       "                           Mountain Peak              Mountain Range  \\\n",
       "0            Mount Elbert[1][2][3][4][5]               Sawatch Range   \n",
       "1      Mount Massive[6][7][8][9][10][11]               Sawatch Range   \n",
       "2  Mount Harvard[12][13][14][15][16][17]               Sawatch Range   \n",
       "3    Blanca Peak[18][19][20][21][22][23]  Sangre de Cristo Mountains   \n",
       "4          La Plata Peak[24][25][26][27]               Sawatch Range   \n",
       "\n",
       "  Elevation Prominence Isolation  \\\n",
       "0  4401.2 m     2772 m       nan   \n",
       "1    4398 m      598 m   8.14 km   \n",
       "2  4395.6 m      719 m     24 km   \n",
       "3    4374 m     1623 m  166.4 km   \n",
       "4    4372 m      560 m  10.11 km   \n",
       "\n",
       "                                          Location  \n",
       "0  39°07′04″N 106°26′43″W﻿ / ﻿39.1178°N 106.4454°W  \n",
       "1  39°11′15″N 106°28′33″W﻿ / ﻿39.1875°N 106.4757°W  \n",
       "2  38°55′28″N 106°19′15″W﻿ / ﻿38.9244°N 106.3207°W  \n",
       "3  37°34′39″N 105°29′08″W﻿ / ﻿37.5775°N 105.4856°W  \n",
       "4  39°01′46″N 106°28′22″W﻿ / ﻿39.0294°N 106.4729°W  "
      ]
     },
     "execution_count": 2,
     "metadata": {},
     "output_type": "execute_result"
    }
   ],
   "source": [
    "rawdata = pd.read_html(\"https://en.wikipedia.org/wiki/List_of_the_highest_major_summits_of_Colorado\"\n",
    "                       , match='highest summits', header=0)[0]\n",
    "df = rawdata.drop(['Rank'], axis=1)\n",
    "df = df.astype(str)\n",
    "df.head()"
   ]
  },
  {
   "cell_type": "markdown",
   "metadata": {},
   "source": [
    "### Format the data"
   ]
  },
  {
   "cell_type": "markdown",
   "metadata": {},
   "source": [
    "#### reformat column names"
   ]
  },
  {
   "cell_type": "code",
   "execution_count": 3,
   "metadata": {},
   "outputs": [],
   "source": [
    "df.columns = [re.sub('\\ ', '_', col) for col in df.columns]"
   ]
  },
  {
   "cell_type": "markdown",
   "metadata": {},
   "source": [
    "#### remove citations"
   ]
  },
  {
   "cell_type": "code",
   "execution_count": 4,
   "metadata": {},
   "outputs": [],
   "source": [
    "rexp = re.compile('\\[\\d+\\]')\n",
    "df['Mountain_Peak'] = df['Mountain_Peak'].replace(rexp, '')"
   ]
  },
  {
   "cell_type": "markdown",
   "metadata": {},
   "source": [
    "#### only want float format"
   ]
  },
  {
   "cell_type": "code",
   "execution_count": 5,
   "metadata": {},
   "outputs": [],
   "source": [
    "rexp = re.compile('([\\d]+\\.[\\d]+)')\n",
    "df['Latitude'] = df['Location'].apply(lambda x: re.findall(rexp, x)[0])\n",
    "df['Longitude'] = df['Location'].apply(lambda x: re.findall(rexp, x)[1])\n",
    "df = df.drop(['Location'], axis=1)"
   ]
  },
  {
   "cell_type": "markdown",
   "metadata": {},
   "source": [
    "#### represent units in column name"
   ]
  },
  {
   "cell_type": "code",
   "execution_count": 6,
   "metadata": {},
   "outputs": [],
   "source": [
    "#record before stripping\n",
    "unitmapper = {'Elevation': 'm', 'Prominence': 'm', 'Isolation': 'km'}\n",
    "#strip out from values\n",
    "for col in unitmapper.keys():\n",
    "    df[col] = df[col].apply(lambda s: re.sub('\\sk?m', '', s))\n",
    "df.rename({key: key+'_'+val for (key, val) in unitmapper.items()}, axis=1, inplace=True)\n",
    "unit_cols = [key+'_'+val for (key, val) in unitmapper.items()]"
   ]
  },
  {
   "cell_type": "markdown",
   "metadata": {},
   "source": [
    "#### index"
   ]
  },
  {
   "cell_type": "code",
   "execution_count": 7,
   "metadata": {},
   "outputs": [],
   "source": [
    "df = df.set_index(['Mountain_Peak'])"
   ]
  },
  {
   "cell_type": "markdown",
   "metadata": {},
   "source": [
    "#### fill missing values"
   ]
  },
  {
   "cell_type": "code",
   "execution_count": 8,
   "metadata": {},
   "outputs": [],
   "source": [
    "#source: https://www.peakbagger.com/Isolate.aspx?pid=5736\n",
    "##seems way high but who am i to say\n",
    "df.loc['Mount Elbert']['Isolation_km'] = '1079.15'"
   ]
  },
  {
   "cell_type": "markdown",
   "metadata": {},
   "source": [
    "#### reformat column datatypes"
   ]
  },
  {
   "cell_type": "code",
   "execution_count": 9,
   "metadata": {},
   "outputs": [],
   "source": [
    "#units\n",
    "decimal.getcontext().prec = 2\n",
    "for col in unit_cols:\n",
    "    df[col] = df[col].astype('float').apply(lambda x: round(x, 2))\n",
    "#coordinates\n",
    "df['Latitude'] = df['Latitude'].astype('float')\n",
    "df['Longitude'] = df['Longitude'].astype('float')\n",
    "##these are backwards\n",
    "df['Longitude'] = df['Longitude']*-1"
   ]
  },
  {
   "cell_type": "markdown",
   "metadata": {},
   "source": [
    "### Export the data"
   ]
  },
  {
   "cell_type": "code",
   "execution_count": 30,
   "metadata": {},
   "outputs": [],
   "source": [
    "#this will not work if you are not me\n",
    "with open('/Users/kutch/Desktop/Projects/AWS/creds.txt') as creds:\n",
    "    txt = [line.strip() for line in creds.readlines()]\n",
    "    a_key, sa_key = txt[0], txt[1]"
   ]
  },
  {
   "cell_type": "markdown",
   "metadata": {},
   "source": [
    "#### Upload to s3"
   ]
  },
  {
   "cell_type": "code",
   "execution_count": 34,
   "metadata": {},
   "outputs": [
    {
     "data": {
      "text/plain": [
       "'/Users/kutch/env_django/ColoradoMountains'"
      ]
     },
     "execution_count": 34,
     "metadata": {},
     "output_type": "execute_result"
    }
   ],
   "source": [
    "os.getcwd()"
   ]
  },
  {
   "cell_type": "code",
   "execution_count": 35,
   "metadata": {},
   "outputs": [],
   "source": [
    "s3 = boto3.resource('s3', aws_access_key_id = a_key, aws_secret_access_key = sa_key)\n",
    "client = boto3.client('s3', aws_access_key_id = a_key, aws_secret_access_key = sa_key)\n",
    "#temporary file creation\n",
    "tmp_fp = os.getcwd()+'mountain_data.csv'\n",
    "df.to_csv(tmp_fp)\n",
    "#upload\n",
    "client.upload_file(tmp_fp, 'davidschneiderprojects', \"MountainMapping/data.csv\")\n",
    "#cleanup\n",
    "os.remove(fp)"
   ]
  }
 ],
 "metadata": {
  "kernelspec": {
   "display_name": "Python 3",
   "language": "python",
   "name": "python3"
  },
  "language_info": {
   "codemirror_mode": {
    "name": "ipython",
    "version": 3
   },
   "file_extension": ".py",
   "mimetype": "text/x-python",
   "name": "python",
   "nbconvert_exporter": "python",
   "pygments_lexer": "ipython3",
   "version": "3.7.1"
  }
 },
 "nbformat": 4,
 "nbformat_minor": 2
}
